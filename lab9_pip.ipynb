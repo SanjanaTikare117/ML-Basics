{
  "nbformat": 4,
  "nbformat_minor": 0,
  "metadata": {
    "colab": {
      "provenance": [],
      "authorship_tag": "ABX9TyO8NRER1/9LyXGp7wtVPBTV",
      "include_colab_link": true
    },
    "kernelspec": {
      "name": "python3",
      "display_name": "Python 3"
    },
    "language_info": {
      "name": "python"
    }
  },
  "cells": [
    {
      "cell_type": "markdown",
      "metadata": {
        "id": "view-in-github",
        "colab_type": "text"
      },
      "source": [
        "<a href=\"https://colab.research.google.com/github/SanjanaTikare117/ML-Basics/blob/main/lab9_pip.ipynb\" target=\"_parent\"><img src=\"https://colab.research.google.com/assets/colab-badge.svg\" alt=\"Open In Colab\"/></a>"
      ]
    },
    {
      "cell_type": "code",
      "execution_count": null,
      "metadata": {
        "colab": {
          "base_uri": "https://localhost:8080/"
        },
        "id": "8giPHkuqmqFP",
        "outputId": "f0924a93-f0b6-47fa-cf69-ae8f09c6ce78"
      },
      "outputs": [
        {
          "output_type": "stream",
          "name": "stdout",
          "text": [
            "welcome to python function\n"
          ]
        }
      ],
      "source": [
        "def display():\n",
        "  print(\"welcome to python function\")\n",
        "display()"
      ]
    },
    {
      "cell_type": "code",
      "source": [
        "def display(name,age):\n",
        "  print(\"name=\",name)\n",
        "  print(\"age=\",age)\n",
        "display(\"Sanjana\",18)"
      ],
      "metadata": {
        "colab": {
          "base_uri": "https://localhost:8080/"
        },
        "id": "7J5Fxnkso_yl",
        "outputId": "37a3d55e-8deb-4102-ace6-1f4f5b8f1408"
      },
      "execution_count": null,
      "outputs": [
        {
          "output_type": "stream",
          "name": "stdout",
          "text": [
            "name= Sanjana\n",
            "age= 18\n"
          ]
        }
      ]
    },
    {
      "cell_type": "code",
      "source": [
        "def student(name, branch, rollno,  age=18, stud=\"studying\"):\n",
        "  print(\"name=\",name)\n",
        "  print(\"age=\",age)\n",
        "  print(\"stud=\",stud)\n",
        "  print(\"branch=\",branch)\n",
        "  print(\"rollno=\",rollno)\n",
        "student(\"Sanjana\",\"csd\",\"20211CSD0161\")\n",
        "\n"
      ],
      "metadata": {
        "colab": {
          "base_uri": "https://localhost:8080/"
        },
        "id": "_6-BPfqMpuT2",
        "outputId": "ec84d4d7-542a-461e-ce39-47a9164a3e8b"
      },
      "execution_count": null,
      "outputs": [
        {
          "output_type": "stream",
          "name": "stdout",
          "text": [
            "name= Sanjana\n",
            "age= 18\n",
            "stud= studying\n",
            "branch= csd\n",
            "rollno= 20211CSD0161\n"
          ]
        }
      ]
    },
    {
      "cell_type": "code",
      "source": [
        "\n",
        "def circle(rad=1, pi=3.14):\n",
        "  area = pi * rad * rad\n",
        "  print(\"rad=\",rad)\n",
        "  print(\"the area of circle is\",area)\n",
        "circle(5)"
      ],
      "metadata": {
        "colab": {
          "base_uri": "https://localhost:8080/"
        },
        "id": "R84aju40twWT",
        "outputId": "6ea734ba-504f-4f90-8b1f-4c28bc08a483"
      },
      "execution_count": null,
      "outputs": [
        {
          "output_type": "stream",
          "name": "stdout",
          "text": [
            "rad= 5\n",
            "the area of circle is 78.5\n"
          ]
        }
      ]
    },
    {
      "cell_type": "code",
      "source": [
        "p=20\n",
        "def demo():\n",
        "  p=10\n",
        "  print(p)\n",
        "  print(p)\n",
        "demo()\n",
        "\n",
        "print(p)\n"
      ],
      "metadata": {
        "colab": {
          "base_uri": "https://localhost:8080/"
        },
        "id": "b1ZdQfU1v1zD",
        "outputId": "b97a6c13-fb3f-4843-fb0a-a2a47f6a76ce"
      },
      "execution_count": null,
      "outputs": [
        {
          "output_type": "stream",
          "name": "stdout",
          "text": [
            "10\n",
            "10\n",
            "20\n"
          ]
        }
      ]
    },
    {
      "cell_type": "code",
      "source": [
        "def demo():\n",
        "  print(\"welcome to python function\")\n",
        "demo()"
      ],
      "metadata": {
        "colab": {
          "base_uri": "https://localhost:8080/"
        },
        "id": "jEmWPYuN4a8N",
        "outputId": "be7b89fb-c33f-442b-bb87-a59adc111226"
      },
      "execution_count": null,
      "outputs": [
        {
          "output_type": "stream",
          "name": "stdout",
          "text": [
            "welcome to python function\n"
          ]
        }
      ]
    },
    {
      "cell_type": "code",
      "source": [
        "def demo():\n",
        "  s=\"welcome to python function\"\n",
        "  print(s)\n",
        "s=\"i like python\"\n",
        "demo()\n",
        "print(s)"
      ],
      "metadata": {
        "colab": {
          "base_uri": "https://localhost:8080/"
        },
        "id": "4GD0JC9-5MQ2",
        "outputId": "1854919b-84ea-4954-e90b-07ad0b3e0666"
      },
      "execution_count": null,
      "outputs": [
        {
          "output_type": "stream",
          "name": "stdout",
          "text": [
            "welcome to python function\n",
            "i like python\n"
          ]
        }
      ]
    },
    {
      "cell_type": "code",
      "source": [
        "def minnum(a, b):\n",
        "  if a<b:\n",
        "    print(\"a is minimum\")\n",
        "    return a\n",
        "  elif b<a:\n",
        "    print(\"b is minimum\")\n",
        "    return b\n",
        "  else:\n",
        "    return 0\n",
        "minnum(2,3)\n",
        ""
      ],
      "metadata": {
        "colab": {
          "base_uri": "https://localhost:8080/"
        },
        "id": "pV0TMKRK5tYc",
        "outputId": "f22bf8d7-7ce3-4816-8a76-6279d8262f53"
      },
      "execution_count": null,
      "outputs": [
        {
          "output_type": "stream",
          "name": "stdout",
          "text": [
            "a is minimum\n"
          ]
        },
        {
          "output_type": "execute_result",
          "data": {
            "text/plain": [
              "2"
            ]
          },
          "metadata": {},
          "execution_count": 25
        }
      ]
    },
    {
      "cell_type": "code",
      "source": [],
      "metadata": {
        "id": "2ccSUJoE7EYM"
      },
      "execution_count": null,
      "outputs": []
    }
  ]
}